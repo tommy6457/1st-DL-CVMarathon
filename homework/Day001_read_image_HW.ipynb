import cv2
img_path='C:/123.jpg'
img = cv2.imread('C:/123.jpg')
cv2.imwrite('image_src.jpg',img)
(B, G, R) = cv2.split(img)
cv2.imshow("C", actual_B)
cv2.waitKey (0)
cv2.imshow("C", actual_G)
cv2.waitKey (0)
cv2.imshow("C", actual_R)
cv2.waitKey (0)
