{
 "cells": [
  {
   "cell_type": "code",
   "execution_count": 28,
   "metadata": {},
   "outputs": [
    {
     "data": {
      "text/plain": [
       "-1"
      ]
     },
     "execution_count": 28,
     "metadata": {},
     "output_type": "execute_result"
    }
   ],
   "source": [
    "import cv2\n",
    "img_path='C:/123.jpg'\n",
    "img = cv2.imread('C:/123.jpg')\n",
    "cv2.imwrite('image_src.jpg',img)\n",
    "(B, G, R) = cv2.split(img)\n",
    "cv2.imshow(\"C\", actual_B)\n",
    "cv2.waitKey (0)\n",
    "cv2.imshow(\"C\", actual_G)\n",
    "cv2.waitKey (0)\n",
    "cv2.imshow(\"C\", actual_R)\n",
    "cv2.waitKey (0)"
   ]
  },
  {
   "cell_type": "code",
   "execution_count": null,
   "metadata": {},
   "outputs": [],
   "source": []
  },
  {
   "cell_type": "code",
   "execution_count": null,
   "metadata": {},
   "outputs": [],
   "source": []
  }
 ],
 "metadata": {
  "kernelspec": {
   "display_name": "Python 3",
   "language": "python",
   "name": "python3"
  },
  "language_info": {
   "codemirror_mode": {
    "name": "ipython",
    "version": 3
   },
   "file_extension": ".py",
   "mimetype": "text/x-python",
   "name": "python",
   "nbconvert_exporter": "python",
   "pygments_lexer": "ipython3",
   "version": "3.7.4"
  }
 },
 "nbformat": 4,
 "nbformat_minor": 2
}
